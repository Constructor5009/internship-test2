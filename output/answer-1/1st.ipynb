{
 "cells": [
  {
   "cell_type": "code",
   "execution_count": 1,
   "id": "8b9b4991",
   "metadata": {},
   "outputs": [
    {
     "name": "stdout",
     "output_type": "stream",
     "text": [
      "        Violent   Property  Murder  Forcible_Rape  Robbery  \\\n",
      "Year                                                         \n",
      "196.0   4134930   45160900  106180         236720  1633510   \n",
      "197.0   9607930   91383800  192230         554570  4159020   \n",
      "198.0  14074328  117048900  206439         865639  5383109   \n",
      "199.0  17527048  119053499  211664         998827  5748930   \n",
      "200.0  13968056  100944369  163068         922499  4230366   \n",
      "201.0   6072017   44095950   72867         421059  1749809   \n",
      "\n",
      "       Aggravated_assault  Burglary  Larceny_Theft  Vehicle_Theft  \n",
      "Year                                                               \n",
      "196.0             2158520  13321100       26547700        5292100  \n",
      "197.0             4702120  28486000       53157800        9739900  \n",
      "198.0             7619130  33073494       72040253       11935411  \n",
      "199.0            10568963  26750015       77679366       14624418  \n",
      "200.0             8652124  21565176       67970291       11412834  \n",
      "201.0             3764142  10125170       30401698        3569080  \n"
     ]
    }
   ],
   "source": [
    "import pandas as pd\n",
    "import numpy as np\n",
    "import io\n",
    "import requests\n",
    "\n",
    "    \n",
    "url = \"https://raw.githubusercontent.com/Bungeetech/internship-test2/master/input/question-1/main.csv\" \n",
    "\n",
    "download = requests.get(url).content\n",
    "\n",
    "df = pd.read_csv(io.StringIO(download.decode('utf-8')))\n",
    "\n",
    "\n",
    "years_sum =  df.groupby(np.floor((df['Year']/10))).agg({'Violent':'sum','Property':'sum','Murder':'sum','Forcible_Rape':'sum','Robbery':'sum','Aggravated_assault':'sum','Burglary':'sum','Larceny_Theft':'sum','Vehicle_Theft':'sum'})\n",
    "\n",
    "print(years_sum)"
   ]
  },
  {
   "cell_type": "code",
   "execution_count": null,
   "id": "e13e6366",
   "metadata": {},
   "outputs": [],
   "source": []
  }
 ],
 "metadata": {
  "kernelspec": {
   "display_name": "Python 3",
   "language": "python",
   "name": "python3"
  },
  "language_info": {
   "codemirror_mode": {
    "name": "ipython",
    "version": 3
   },
   "file_extension": ".py",
   "mimetype": "text/x-python",
   "name": "python",
   "nbconvert_exporter": "python",
   "pygments_lexer": "ipython3",
   "version": "3.8.8"
  }
 },
 "nbformat": 4,
 "nbformat_minor": 5
}
