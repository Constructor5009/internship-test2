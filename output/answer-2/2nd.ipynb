{
 "cells": [
  {
   "cell_type": "code",
   "execution_count": 6,
   "id": "b7ca184c",
   "metadata": {},
   "outputs": [
    {
     "name": "stdout",
     "output_type": "stream",
     "text": [
      "              age    \n",
      "              min max\n",
      "occupation           \n",
      "administrator  21  70\n",
      "artist         19  48\n",
      "doctor         28  64\n",
      "educator       23  63\n",
      "engineer       22  70\n",
      "entertainment  15  50\n",
      "executive      22  69\n",
      "healthcare     22  62\n",
      "homemaker      20  50\n",
      "lawyer         21  53\n",
      "librarian      23  69\n",
      "marketing      24  55\n",
      "none           11  55\n",
      "other          13  64\n",
      "programmer     20  63\n",
      "retired        51  73\n",
      "salesman       18  66\n",
      "scientist      23  55\n",
      "student         7  42\n",
      "technician     21  55\n",
      "writer         18  60\n"
     ]
    }
   ],
   "source": [
    "import pandas as pd\n",
    "import numpy as np\n",
    "import io\n",
    "import requests\n",
    "\n",
    "\n",
    "url = \"https://raw.githubusercontent.com/Bungeetech/internship-test2/master/input/question-2/main.csv\" \n",
    "\n",
    "download = requests.get(url).content\n",
    "\n",
    "df = pd.read_csv(io.StringIO(download.decode('utf-8')))\n",
    "\n",
    "age =  df.groupby(df['occupation']).age.agg(['min','max'])\n",
    "\n",
    "\n",
    "minimum=df['age'].max()\n",
    "maximum=df['age'].min()\n",
    "\n",
    "df = df.groupby('occupation').agg({'age':['min','max']})\n",
    "df.to_csv('2nd_answer.csv',index=False)\n",
    "print(df)"
   ]
  },
  {
   "cell_type": "code",
   "execution_count": null,
   "id": "27b04dec",
   "metadata": {},
   "outputs": [],
   "source": []
  },
  {
   "cell_type": "code",
   "execution_count": null,
   "id": "fe98a86d",
   "metadata": {},
   "outputs": [],
   "source": []
  }
 ],
 "metadata": {
  "kernelspec": {
   "display_name": "Python 3",
   "language": "python",
   "name": "python3"
  },
  "language_info": {
   "codemirror_mode": {
    "name": "ipython",
    "version": 3
   },
   "file_extension": ".py",
   "mimetype": "text/x-python",
   "name": "python",
   "nbconvert_exporter": "python",
   "pygments_lexer": "ipython3",
   "version": "3.8.8"
  }
 },
 "nbformat": 4,
 "nbformat_minor": 5
}
